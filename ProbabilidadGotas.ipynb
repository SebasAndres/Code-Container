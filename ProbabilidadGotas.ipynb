{
 "cells": [
  {
   "cell_type": "code",
   "execution_count": 1,
   "metadata": {},
   "outputs": [],
   "source": [
    "c = 1\n",
    "x = 2\n",
    "y = 1\n",
    "\n",
    "simple_prob = lambda t: (c/x*y)**(t+1) # probabilidad de ser golpeado si el objeto solo ocupa un cuadrado (n, m)"
   ]
  },
  {
   "cell_type": "code",
   "execution_count": 30,
   "metadata": {},
   "outputs": [
    {
     "name": "stdout",
     "output_type": "stream",
     "text": [
      "#0 \n",
      "[[1. 1.]\n",
      " [0. 0.]]\n",
      "--------\n",
      "\n",
      "#1 \n",
      "[[0. 1.]\n",
      " [1. 0.]]\n",
      "--------\n",
      "\n",
      "#2 \n",
      "[[0. 0.]\n",
      " [1. 1.]]\n",
      "--------\n",
      "\n",
      "#3 \n",
      "[[1. 0.]\n",
      " [0. 1.]]\n",
      "--------\n",
      "\n",
      "=> Hubieron 4 casos\n"
     ]
    }
   ],
   "source": [
    "import numpy as np\n",
    "\n",
    "def graph_cases (y, x, c, t):\n",
    "    counter = 0\n",
    "    drop_locs = [[z, 0] for z in range(c)] # {x, y} // Iniciamos las posiciones en y=0 y x = [numero de gota]\n",
    "    \n",
    "    def draw ():\n",
    "        t_matrix = np.zeros([y, x])            \n",
    "        for drop in drop_locs:\n",
    "            t_matrix[drop[1]%y][drop[0]%x] = 1\n",
    "        print (\"#{} \\n{}\\n--------\\n\".format(counter, t_matrix))\n",
    "    \n",
    "    g_done = [0 for n in range (c)] # cuando la gota G llega a (x, y) => g_done[G] = 1\n",
    "    while (True):\n",
    "        draw();\n",
    "        for gota in range (c): \n",
    "            if (drop_locs[gota][0] == x-1) and (drop_locs[gota][1] == y-1):\n",
    "                g_done[gota] = 1; drop_locs[gota] = [0, 0];\n",
    "            elif (drop_locs[gota][0] == x-1): drop_locs[gota][1]+=1; drop_locs[gota][0] = 0;\n",
    "            else: drop_locs[gota][0] += 1\n",
    "        counter += 1;\n",
    "        if (sum(g_done) == c): break;\n",
    "    print (\"=> Hubieron {} casos\".format(counter))\n",
    "\n",
    "graph_cases (2, 2, 2, 1)"
   ]
  },
  {
   "cell_type": "code",
   "execution_count": null,
   "metadata": {},
   "outputs": [],
   "source": []
  }
 ],
 "metadata": {
  "kernelspec": {
   "display_name": "Python 3",
   "language": "python",
   "name": "python3"
  },
  "language_info": {
   "codemirror_mode": {
    "name": "ipython",
    "version": 3
   },
   "file_extension": ".py",
   "mimetype": "text/x-python",
   "name": "python",
   "nbconvert_exporter": "python",
   "pygments_lexer": "ipython3",
   "version": "3.9.1"
  }
 },
 "nbformat": 4,
 "nbformat_minor": 4
}
