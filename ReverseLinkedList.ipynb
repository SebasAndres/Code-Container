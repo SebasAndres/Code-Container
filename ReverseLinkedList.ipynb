{
 "cells": [
  {
   "cell_type": "code",
   "execution_count": 17,
   "metadata": {},
   "outputs": [],
   "source": [
    "# a -> b -> c -> ... -> n -> None\n",
    "# n -> n-1 -> ... -> c -> b -> a -> None\n",
    "\n",
    "def reverseLinkedList(head):\n",
    "    curr = head; previous = None\n",
    "    while curr.getNextValue() != None:\n",
    "        next_ = curr.next\n",
    "        curr.next = previous\n",
    "        previous = curr\n",
    "        curr = next_\n",
    "    curr.next = previous\n",
    "    \n",
    "class LinkedList:\n",
    "    def __init__ (self, value):\n",
    "        self.value = value\n",
    "        self.next = None\n",
    "    \n",
    "    def getNextValue (self):\n",
    "        if (self.next == None):\n",
    "            return None\n",
    "        else: \n",
    "            return self.next.value"
   ]
  },
  {
   "cell_type": "code",
   "execution_count": 18,
   "metadata": {},
   "outputs": [
    {
     "name": "stdout",
     "output_type": "stream",
     "text": [
      "a is a and points to b\n",
      "b is b and points to c\n",
      "c is c and points to None\n",
      "\n",
      "a is a and points to None\n",
      "b is b and points to a\n",
      "c is c and points to b\n",
      "\n"
     ]
    }
   ],
   "source": [
    "a = LinkedList(\"a\")\n",
    "b = LinkedList(\"b\")\n",
    "c = LinkedList(\"c\")\n",
    "\n",
    "a.next = b\n",
    "b.next = c\n",
    "\n",
    "print (\"a is {} and points to {}\".format(a.value, a.getNextValue()))\n",
    "print (\"b is {} and points to {}\".format(b.value, b.getNextValue()))\n",
    "print (\"c is {} and points to {}\".format(c.value, c.getNextValue()))\n",
    "print ()\n",
    "\n",
    "reverseLinkedList(a)\n",
    "\n",
    "print (\"a is {} and points to {}\".format(a.value, a.getNextValue()))\n",
    "print (\"b is {} and points to {}\".format(b.value, b.getNextValue()))\n",
    "print (\"c is {} and points to {}\".format(c.value, c.getNextValue()))\n",
    "print ()"
   ]
  },
  {
   "cell_type": "code",
   "execution_count": null,
   "metadata": {},
   "outputs": [],
   "source": []
  }
 ],
 "metadata": {
  "kernelspec": {
   "display_name": "Python 3",
   "language": "python",
   "name": "python3"
  },
  "language_info": {
   "codemirror_mode": {
    "name": "ipython",
    "version": 3
   },
   "file_extension": ".py",
   "mimetype": "text/x-python",
   "name": "python",
   "nbconvert_exporter": "python",
   "pygments_lexer": "ipython3",
   "version": "3.9.1"
  }
 },
 "nbformat": 4,
 "nbformat_minor": 4
}
