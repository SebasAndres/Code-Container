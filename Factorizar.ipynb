{
 "cells": [
  {
   "cell_type": "code",
   "execution_count": 42,
   "metadata": {},
   "outputs": [],
   "source": [
    "def initializeArray (inputt, variableID):\n",
    "    ###  \"ax3+bx2+cx+d\"\n",
    "    terminos = []; term = \"\";\n",
    "    for u in inputt:\n",
    "        if u == \"+\" or u == \"-\": terminos.append(term); term = \"\";\n",
    "        else: term += u\n",
    "    \n",
    "    for k, term in enumerate(terminos):\n",
    "        #print (\"term{}: {}\".format(k, term))\n",
    "        varIndex = \"\".join(term).index(variableID);\n",
    "        if varIndex != -1: # Tiene formato CoefX o CoefXKKK...\n",
    "            coef = 1; exp = 0;\n",
    "            if term[0] != variableID:\n",
    "                coef = \"\".join(term[0:varIndex-1])\n",
    "            if len(term[varIndex:]) > 1: # Si tiene exponente\n",
    "                exp = \"\".join(term[1:len(term)]); lastExpo = None;\n",
    "                for i in range(len(terminos)):\n",
    "                    if terminos[i][1] == exp: lastExpo = i;\n",
    "                if lastExpo == None: terminos.append((coef, exp));\n",
    "                else: terminos[lastExpo][0] += coef;\n",
    "            else:\n",
    "                if len(terminos) > 1: terminos[1][0] += coef;-\n",
    "                else: terminos.append((coef, 1));\n",
    "        else:\n",
    "            terminos[0][1] += float(\"\".join(term))\n",
    "        return terminos;\n",
    "\n",
    "class function ():\n",
    "    def __init__ (self, inputt, tipo):\n",
    "        \n",
    "        \n",
    "        self.variable = \"x\" ## Indica el valor indicado como variable (p. e. \"x\", \"y\", \"z\", ...) \n",
    "        ## Sample input: \"ax2 + bx3 + cx4 + d\"\n",
    "        # Eliminar espacios en blanco\n",
    "        acc = \"\"\n",
    "        for le in inputt:\n",
    "            if le != \" \": acc += le            \n",
    "        self.tipo = tipo;\n",
    "        self.arr = initializeArray(inputt, self.variable); # [(coef, expo), ...] = [(b, 0), (coef1, 1), (coef2, 2)]\n",
    "        print(self.arr);"
   ]
  },
  {
   "cell_type": "code",
   "execution_count": 44,
   "metadata": {},
   "outputs": [
    {
     "name": "stdout",
     "output_type": "stream",
     "text": [
      "term0: 2x\n",
      "['2x', ('', 1)]\n"
     ]
    }
   ],
   "source": [
    "f = function (\"2x+1\", \"\")"
   ]
  }
 ],
 "metadata": {
  "kernelspec": {
   "display_name": "Python 3",
   "language": "python",
   "name": "python3"
  },
  "language_info": {
   "codemirror_mode": {
    "name": "ipython",
    "version": 3
   },
   "file_extension": ".py",
   "mimetype": "text/x-python",
   "name": "python",
   "nbconvert_exporter": "python",
   "pygments_lexer": "ipython3",
   "version": "3.9.1"
  }
 },
 "nbformat": 4,
 "nbformat_minor": 4
}
