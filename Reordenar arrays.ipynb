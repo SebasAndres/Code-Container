{
 "cells": [
  {
   "cell_type": "code",
   "execution_count": 1,
   "metadata": {},
   "outputs": [
    {
     "name": "stdout",
     "output_type": "stream",
     "text": [
      "[3, 2, 1]\n"
     ]
    }
   ],
   "source": [
    "## Algoritmo de prueba\n",
    "## Reordenar arrays de forma random\n",
    "\n",
    "import random \n",
    "\n",
    "# Para array 1d\n",
    "iArr = [1, 2, 3]\n",
    "\n",
    "def rArray (arr, dim):   \n",
    "    def inArr (arrs, elm):\n",
    "        vl = False;\n",
    "        for k in arrs:\n",
    "            if k == elm: vl = True;\n",
    "        return vl\n",
    "    \n",
    "    nIndex = list(); nArray = list();\n",
    "    for q in range (len(arr)):\n",
    "        rnd = random.randint(0, len(arr)-1)\n",
    "        while (inArr(nIndex, rnd) != False):\n",
    "            rnd = random.randint(0, len(arr)-1)\n",
    "        nIndex.append(rnd)\n",
    "    for j in nIndex:\n",
    "        nArray.append (arr[j])\n",
    "    return nArray;\n",
    "\n",
    "print (rArray(iArr, 1))"
   ]
  },
  {
   "cell_type": "code",
   "execution_count": 13,
   "metadata": {},
   "outputs": [
    {
     "name": "stdout",
     "output_type": "stream",
     "text": [
      "[[[1, 0]], [[0, 1], [1, 0]]]\n"
     ]
    }
   ],
   "source": [
    "import numpy as np\n",
    "\n",
    "def rArray (arr, dim, sz):\n",
    "    def inArr (arrs, elm):\n",
    "        vl = False;\n",
    "        for k in arrs:\n",
    "            if k == elm: vl = True;\n",
    "        return vl    \n",
    "\n",
    "    def simpleArrayOrd (arr):\n",
    "        nIndex = list(); nArray = list();\n",
    "        for q in range (len(arr)):\n",
    "            rnd = random.randint(0, len(arr)-1)\n",
    "            while (inArr(nIndex, rnd) != False):\n",
    "                rnd = random.randint(0, len(arr)-1)\n",
    "            nIndex.append(rnd)\n",
    "        for j in nIndex:\n",
    "            nArray.append (arr[j])\n",
    "        return nArray\n",
    "    \n",
    "    if dim == 1:\n",
    "        nArray = simpleArrayOrd (arr);\n",
    "    else:\n",
    "        nArray = np.zeros ([sz[i] for i in range(dim)])\n",
    "        nIndex = [[] for q in range(dim)]\n",
    "        for d in range (dim):\n",
    "            def prod (L): \n",
    "                acc = 1;\n",
    "                for data in L: acc *= data;\n",
    "                return acc\n",
    "            nIndex[d] = [simpleArrayOrd([n for n in range(sz[d])]) for n in range (prod ([sz[i] for i in range (d)]))]\n",
    "        print (nIndex)\n",
    "        \n",
    "rArray ([[1,2], [3,4]], 2, [2, 2])"
   ]
  },
  {
   "cell_type": "code",
   "execution_count": null,
   "metadata": {},
   "outputs": [],
   "source": []
  }
 ],
 "metadata": {
  "kernelspec": {
   "display_name": "Python 3",
   "language": "python",
   "name": "python3"
  },
  "language_info": {
   "codemirror_mode": {
    "name": "ipython",
    "version": 3
   },
   "file_extension": ".py",
   "mimetype": "text/x-python",
   "name": "python",
   "nbconvert_exporter": "python",
   "pygments_lexer": "ipython3",
   "version": "3.9.1"
  }
 },
 "nbformat": 4,
 "nbformat_minor": 4
}
